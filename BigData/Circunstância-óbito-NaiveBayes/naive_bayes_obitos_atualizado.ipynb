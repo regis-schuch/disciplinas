{
  "cells": [
    {
      "cell_type": "markdown",
      "metadata": {
        "id": "kmZyVP2b_hD9"
      },
      "source": [
        "# Análise de Dados e Classificação com Naive Bayes\n",
        "Base: **Óbitos no domicílio** (`.arff`)\n",
        "\n",
        "Este notebook realiza as etapas completas de um processo de Machine Learning, incluindo:\n",
        "- Leitura e análise exploratória da base de dados\n",
        "- Pré-processamento e codificação dos dados\n",
        "- Balanceamento da base de dados com SMOTE\n",
        "- Treinamento do modelo de Machine Learning com\n",
        "a técnica Naive Bayes\n",
        "- Avaliação do modelo com matriz de confusão e acurácia\n",
        "- Comparação entre modelos com e sem SMOTE"
      ]
    },
    {
      "cell_type": "code",
      "metadata": {
        "colab": {
          "base_uri": "https://localhost:8080/"
        },
        "id": "X73XFECX_hD_",
        "outputId": "be29f202-dffb-41fc-fdae-658eee449492"
      },
      "source": [
        "# Instalação das bibliotecas necessárias\n",
        "!pip install pandas scikit-learn imbalanced-learn liac-arff matplotlib seaborn"
      ],
      "execution_count": 2,
      "outputs": [
        {
          "output_type": "stream",
          "name": "stdout",
          "text": [
            "Requirement already satisfied: pandas in /usr/local/lib/python3.11/dist-packages (2.2.2)\n",
            "Requirement already satisfied: scikit-learn in /usr/local/lib/python3.11/dist-packages (1.6.1)\n",
            "Requirement already satisfied: imbalanced-learn in /usr/local/lib/python3.11/dist-packages (0.13.0)\n",
            "Collecting liac-arff\n",
            "  Downloading liac-arff-2.5.0.tar.gz (13 kB)\n",
            "  Preparing metadata (setup.py) ... \u001b[?25l\u001b[?25hdone\n",
            "Requirement already satisfied: matplotlib in /usr/local/lib/python3.11/dist-packages (3.10.0)\n",
            "Requirement already satisfied: seaborn in /usr/local/lib/python3.11/dist-packages (0.13.2)\n",
            "Requirement already satisfied: numpy>=1.23.2 in /usr/local/lib/python3.11/dist-packages (from pandas) (2.0.2)\n",
            "Requirement already satisfied: python-dateutil>=2.8.2 in /usr/local/lib/python3.11/dist-packages (from pandas) (2.8.2)\n",
            "Requirement already satisfied: pytz>=2020.1 in /usr/local/lib/python3.11/dist-packages (from pandas) (2025.2)\n",
            "Requirement already satisfied: tzdata>=2022.7 in /usr/local/lib/python3.11/dist-packages (from pandas) (2025.2)\n",
            "Requirement already satisfied: scipy>=1.6.0 in /usr/local/lib/python3.11/dist-packages (from scikit-learn) (1.14.1)\n",
            "Requirement already satisfied: joblib>=1.2.0 in /usr/local/lib/python3.11/dist-packages (from scikit-learn) (1.4.2)\n",
            "Requirement already satisfied: threadpoolctl>=3.1.0 in /usr/local/lib/python3.11/dist-packages (from scikit-learn) (3.6.0)\n",
            "Requirement already satisfied: sklearn-compat<1,>=0.1 in /usr/local/lib/python3.11/dist-packages (from imbalanced-learn) (0.1.3)\n",
            "Requirement already satisfied: contourpy>=1.0.1 in /usr/local/lib/python3.11/dist-packages (from matplotlib) (1.3.1)\n",
            "Requirement already satisfied: cycler>=0.10 in /usr/local/lib/python3.11/dist-packages (from matplotlib) (0.12.1)\n",
            "Requirement already satisfied: fonttools>=4.22.0 in /usr/local/lib/python3.11/dist-packages (from matplotlib) (4.56.0)\n",
            "Requirement already satisfied: kiwisolver>=1.3.1 in /usr/local/lib/python3.11/dist-packages (from matplotlib) (1.4.8)\n",
            "Requirement already satisfied: packaging>=20.0 in /usr/local/lib/python3.11/dist-packages (from matplotlib) (24.2)\n",
            "Requirement already satisfied: pillow>=8 in /usr/local/lib/python3.11/dist-packages (from matplotlib) (11.1.0)\n",
            "Requirement already satisfied: pyparsing>=2.3.1 in /usr/local/lib/python3.11/dist-packages (from matplotlib) (3.2.3)\n",
            "Requirement already satisfied: six>=1.5 in /usr/local/lib/python3.11/dist-packages (from python-dateutil>=2.8.2->pandas) (1.17.0)\n",
            "Building wheels for collected packages: liac-arff\n",
            "  Building wheel for liac-arff (setup.py) ... \u001b[?25l\u001b[?25hdone\n",
            "  Created wheel for liac-arff: filename=liac_arff-2.5.0-py3-none-any.whl size=11717 sha256=5c17df2ebc7ad5ffba42372311be0aeea6b8f0520eba2ae24421457268b05b24\n",
            "  Stored in directory: /root/.cache/pip/wheels/00/23/31/5e562fce1f95aabe57f2a7320d07433ba1cd152bcde2f6a002\n",
            "Successfully built liac-arff\n",
            "Installing collected packages: liac-arff\n",
            "Successfully installed liac-arff-2.5.0\n"
          ]
        }
      ]
    },
    {
      "cell_type": "code",
      "metadata": {
        "id": "ZeoRw3xU_hD_"
      },
      "source": [
        "import pandas as pd  # Manipulação de dados\n",
        "import matplotlib.pyplot as plt  # Gráficos\n",
        "import seaborn as sns  # Gráficos bonitos\n",
        "from sklearn.preprocessing import LabelEncoder  # Codificação de variáveis categóricas\n",
        "from sklearn.model_selection import train_test_split  # Separar treino e teste\n",
        "from sklearn.naive_bayes import CategoricalNB  # Naive Bayes para dados categóricos\n",
        "from sklearn.metrics import classification_report, confusion_matrix, accuracy_score  # Avaliação\n",
        "from imblearn.over_sampling import SMOTE  # Balanceamento com SMOTE\n",
        "import arff  # Leitura de arquivos .arff\n",
        "\n",
        "# Abre o arquivo .arff com encoding compatível\n",
        "with open(\"obitos_domicilio.arff\", \"r\", encoding=\"ISO-8859-1\", errors=\"ignore\") as f:\n",
        "    arff_data = arff.load(f)\n",
        "\n",
        "# Extrai os nomes das colunas\n",
        "columns = [attr[0] for attr in arff_data['attributes']]\n",
        "\n",
        "# Cria um DataFrame com os dados\n",
        "df = pd.DataFrame(arff_data['data'], columns=columns)"
      ],
      "execution_count": 16,
      "outputs": []
    },
    {
      "cell_type": "markdown",
      "metadata": {
        "id": "0mEPaUf0_hD_"
      },
      "source": [
        "## Análise Exploratória de Dados"
      ]
    },
    {
      "cell_type": "code",
      "metadata": {
        "colab": {
          "base_uri": "https://localhost:8080/",
          "height": 718
        },
        "id": "Rt5_KZ6o_hD_",
        "outputId": "a0e6d555-77d1-45b9-97d1-3e603cc3ce50"
      },
      "source": [
        "# Substitui valores '?' por valores nulos\n",
        "df.replace('?', pd.NA, inplace=True)\n",
        "\n",
        "# Remove linhas com dados faltantes\n",
        "df.dropna(inplace=True)\n",
        "\n",
        "# Remove registros com 'CIRCOBITO' igual a 'outros' ou 'ignorado'\n",
        "df = df[(df[\"CIRCOBITO\"] != \"outros\") & (df[\"CIRCOBITO\"] != \"ignorado\")]\n",
        "\n",
        "# Mostra informações do DataFrame\n",
        "print(df.info())\n",
        "df.isna().sum()\n",
        "\n",
        "# Gráfico de distribuição da variável alvo \"CIRCOBITO\"\n",
        "sns.countplot(x=\"CIRCOBITO\", data=df)\n",
        "plt.title(\"Distribuição da Circunstância do Óbito\")\n",
        "plt.show()"
      ],
      "execution_count": 17,
      "outputs": [
        {
          "output_type": "stream",
          "name": "stdout",
          "text": [
            "<class 'pandas.core.frame.DataFrame'>\n",
            "Index: 524 entries, 0 to 569\n",
            "Data columns (total 6 columns):\n",
            " #   Column     Non-Null Count  Dtype \n",
            "---  ------     --------------  ----- \n",
            " 0   IDADE      524 non-null    object\n",
            " 1   SEXO       524 non-null    object\n",
            " 2   RACACOR    524 non-null    object\n",
            " 3   ESTCIV     524 non-null    object\n",
            " 4   ESC        524 non-null    object\n",
            " 5   CIRCOBITO  524 non-null    object\n",
            "dtypes: object(6)\n",
            "memory usage: 28.7+ KB\n",
            "None\n"
          ]
        },
        {
          "output_type": "display_data",
          "data": {
            "text/plain": [
              "<Figure size 640x480 with 1 Axes>"
            ],
            "image/png": "[encoded data removed]"
          },
          "metadata": {}
        }
      ]
    },
    {
      "cell_type": "markdown",
      "metadata": {
        "id": "aWUj0RnZ_hEA"
      },
      "source": [
        "## Pré-processamento e Codificação"
      ]
    },
    {
      "cell_type": "code",
      "metadata": {
        "id": "Dmcm5sU1_hEA"
      },
      "source": [
        "# Codifica todos os atributos categóricos em valores numéricos\n",
        "encoders = {}\n",
        "for col in df.columns:\n",
        "    enc = LabelEncoder()\n",
        "    df[col] = enc.fit_transform(df[col])\n",
        "    encoders[col] = enc\n",
        "\n",
        "# Separa features (X) e variável alvo (y)\n",
        "X = df.drop(\"CIRCOBITO\", axis=1)\n",
        "y = df[\"CIRCOBITO\"]"
      ],
      "execution_count": 18,
      "outputs": []
    },
    {
      "cell_type": "markdown",
      "metadata": {
        "id": "lu0kxW3g_hEA"
      },
      "source": [
        "## Classificação com Dados Originais (sem SMOTE)"
      ]
    },
    {
      "cell_type": "code",
      "metadata": {
        "colab": {
          "base_uri": "https://localhost:8080/"
        },
        "id": "Z4xw5lid_hEA",
        "outputId": "f17eb044-c743-43ef-df1a-e51a909eba88"
      },
      "source": [
        "# Divide os dados em treino e teste:\n",
        "# - 70% para treinamento\n",
        "# - 30% para teste\n",
        "# Isso é importante para avaliar o desempenho do modelo em dados não vistos.\n",
        "X_train_orig, X_test_orig, y_train_orig, y_test_orig = train_test_split(\n",
        "    X, y, test_size=0.3, random_state=42\n",
        ")\n",
        "# Cria uma instância do classificador Naive Bayes categórico\n",
        "# Ideal para atributos codificados com valores discretos (ex: LabelEncoder)\n",
        "model_orig = CategoricalNB()\n",
        "# Treina o modelo usando os dados de treino (atributos e classes)\n",
        "# Aqui o Naive Bayes aprende as distribuições de probabilidade de cada atributo por classe\n",
        "model_orig.fit(X_train_orig, y_train_orig)\n",
        "# Usa o modelo treinado para prever a classe das instâncias no conjunto de teste\n",
        "# O resultado é um vetor com os rótulos previstos\n",
        "y_pred_orig = model_orig.predict(X_test_orig)\n",
        "# Avaliação 1: calcula a acurácia do modelo\n",
        "# Acurácia = (número de previsões corretas) / (total de previsões)\n",
        "print(\"Acurácia:\", accuracy_score(y_test_orig, y_pred_orig))\n",
        "# Avaliação 2: mostra a matriz de confusão\n",
        "# Ela indica quantas vezes cada classe foi corretamente ou erroneamente prevista\n",
        "# Linhas = classe verdadeira, Colunas = classe prevista\n",
        "print(\"\\nMatriz de Confusão:\\n\", confusion_matrix(y_test_orig, y_pred_orig))\n",
        "# Avaliação 3: gera um relatório completo com as métricas:\n",
        "# - precision: precisão (quantos dos classificados como X realmente são X)\n",
        "# - recall: sensibilidade (quantos dos X reais foram classificados como X)\n",
        "# - f1-score: média harmônica entre precisão e recall\n",
        "# - support: número de exemplos reais de cada classe\n",
        "print(\"\\nRelatório de Classificação:\\n\", classification_report(y_test_orig, y_pred_orig))"
      ],
      "execution_count": 24,
      "outputs": [
        {
          "output_type": "stream",
          "name": "stdout",
          "text": [
            "Acurácia: 0.5316455696202531\n",
            "\n",
            "Matriz de Confusão:\n",
            " [[ 7  5 17]\n",
            " [ 1 11 21]\n",
            " [ 8 22 66]]\n",
            "\n",
            "Relatório de Classificação:\n",
            "               precision    recall  f1-score   support\n",
            "\n",
            "           0       0.44      0.24      0.31        29\n",
            "           1       0.29      0.33      0.31        33\n",
            "           2       0.63      0.69      0.66        96\n",
            "\n",
            "    accuracy                           0.53       158\n",
            "   macro avg       0.45      0.42      0.43       158\n",
            "weighted avg       0.53      0.53      0.52       158\n",
            "\n"
          ]
        }
      ]
    },
    {
      "cell_type": "markdown",
      "metadata": {
        "id": "K_QoxKFR_hEA"
      },
      "source": [
        "## Balanceamento com SMOTE"
      ]
    },
    {
      "cell_type": "code",
      "metadata": {
        "colab": {
          "base_uri": "https://localhost:8080/",
          "height": 576
        },
        "id": "cQBjJ-R0_hEB",
        "outputId": "6983f9a8-9a76-4717-98f0-d4597421323a"
      },
      "source": [
        "# Remove a classe 3 do conjunto de dados\n",
        "# Motivo: ela possui poucos exemplos e pode causar erro no SMOTE\n",
        "# (SMOTE precisa de pelo menos k+1 amostras da mesma classe)\n",
        "X_bal = X[y != 3]\n",
        "y_bal = y[y != 3]\n",
        "# Instancia o SMOTE com k=2 (número de vizinhos mais próximos)\n",
        "# SMOTE = Synthetic Minority Over-sampling Technique\n",
        "# Ele vai gerar novos exemplos sintéticos para as classes minoritárias\n",
        "smote = SMOTE(random_state=42, k_neighbors=2)\n",
        "# Aplica o SMOTE nos dados balanceados (sem a classe 3)\n",
        "# Gera novos exemplos sintéticos para igualar as quantidades entre as classes\n",
        "X_resampled, y_resampled = smote.fit_resample(X_bal, y_bal)\n",
        "# Mostra a nova distribuição de classes após o SMOTE\n",
        "# Agora todas as classes devem ter o mesmo número de exemplos\n",
        "print(\"Distribuição após SMOTE:\\n\", pd.Series(y_resampled).value_counts())\n",
        "# Exibe graficamente a distribuição das classes balanceadas\n",
        "# Gera um gráfico de barras para visualizar se o SMOTE funcionou\n",
        "sns.countplot(x=y_resampled)\n",
        "plt.title(\"Distribuição das Classes após SMOTE\")\n",
        "plt.xlabel(\"Classe\")\n",
        "plt.ylabel(\"Contagem\")\n",
        "plt.show()"
      ],
      "execution_count": 30,
      "outputs": [
        {
          "output_type": "stream",
          "name": "stdout",
          "text": [
            "Distribuição após SMOTE:\n",
            " CIRCOBITO\n",
            "0    294\n",
            "2    294\n",
            "1    294\n",
            "Name: count, dtype: int64\n"
          ]
        },
        {
          "output_type": "display_data",
          "data": {
            "text/plain": [
              "<Figure size 640x480 with 1 Axes>"
            ],
            "image/png": "[encoded data removed]"
          },
          "metadata": {}
        }
      ]
    },
    {
      "cell_type": "markdown",
      "metadata": {
        "id": "kt1Rfwws_hEB"
      },
      "source": [
        "## Classificação com Dados Balanceados (com SMOTE)"
      ]
    },
    {
      "cell_type": "code",
      "metadata": {
        "colab": {
          "base_uri": "https://localhost:8080/"
        },
        "id": "Z--UDbgD_hEB",
        "outputId": "5064f002-05e9-47ac-8683-4e3fec55ce9f"
      },
      "source": [
        "X_train, X_test, y_train, y_test = train_test_split(X_resampled, y_resampled, test_size=0.3, random_state=42)\n",
        "model = CategoricalNB()\n",
        "model.fit(X_train, y_train)\n",
        "y_pred = model.predict(X_test)\n",
        "\n",
        "print(\"Acurácia:\", accuracy_score(y_test, y_pred))\n",
        "print(\"\\nMatriz de Confusão:\\n\", confusion_matrix(y_test, y_pred))\n",
        "print(\"\\nRelatório de Classificação:\\n\", classification_report(y_test, y_pred))"
      ],
      "execution_count": 31,
      "outputs": [
        {
          "output_type": "stream",
          "name": "stdout",
          "text": [
            "Acurácia: 0.539622641509434\n",
            "\n",
            "Matriz de Confusão:\n",
            " [[50 13 16]\n",
            " [12 59 24]\n",
            " [25 32 34]]\n",
            "\n",
            "Relatório de Classificação:\n",
            "               precision    recall  f1-score   support\n",
            "\n",
            "           0       0.57      0.63      0.60        79\n",
            "           1       0.57      0.62      0.59        95\n",
            "           2       0.46      0.37      0.41        91\n",
            "\n",
            "    accuracy                           0.54       265\n",
            "   macro avg       0.53      0.54      0.54       265\n",
            "weighted avg       0.53      0.54      0.53       265\n",
            "\n"
          ]
        }
      ]
    },
    {
      "cell_type": "code",
      "source": [
        "# Verifique os valores possíveis para cada atributo\n",
        "print(\"IDADE:\", encoders[\"IDADE\"].classes_)\n",
        "print(\"SEXO:\", encoders[\"SEXO\"].classes_)\n",
        "print(\"RACACOR:\", encoders[\"RACACOR\"].classes_)\n",
        "print(\"ESTCIV:\", encoders[\"ESTCIV\"].classes_)\n",
        "print(\"ESC:\", encoders[\"ESC\"].classes_)\n",
        "\n",
        "# Exemplo de entrada com valores existentes\n",
        "entrada = pd.DataFrame([{\n",
        "    \"IDADE\": encoders[\"IDADE\"].transform([\"idoso\"])[0],\n",
        "    \"SEXO\": encoders[\"SEXO\"].transform([\"masculino\"])[0],\n",
        "    \"RACACOR\": encoders[\"RACACOR\"].transform([\"branca\"])[0],\n",
        "    \"ESTCIV\": encoders[\"ESTCIV\"].transform([\"solteiro\"])[0],\n",
        "    \"ESC\": encoders[\"ESC\"].transform([\"4a7anos\"])[0]\n",
        "}])\n",
        "\n",
        "# Predição\n",
        "predicao = model.predict(entrada)[0]\n",
        "classe_prevista = encoders[\"CIRCOBITO\"].inverse_transform([predicao])[0]\n",
        "\n",
        "print(\"Classe prevista (CIRCOBITO):\", classe_prevista)\n"
      ],
      "metadata": {
        "colab": {
          "base_uri": "https://localhost:8080/"
        },
        "id": "Osl11eUOAOz2",
        "outputId": "471c0370-ac32-4ead-abd0-2993a8d0d9f8"
      },
      "execution_count": 32,
      "outputs": [
        {
          "output_type": "stream",
          "name": "stdout",
          "text": [
            "IDADE: ['adulto' 'idoso' 'jovem']\n",
            "SEXO: ['feminino' 'masculino']\n",
            "RACACOR: ['amarela' 'branca' 'parda' 'preta']\n",
            "ESTCIV: ['casado' 'ignorado' 'separado' 'solteiro' 'viúvo']\n",
            "ESC: ['12emais' '1a3anos' '4a7anos' '8a11anos' 'ignorado' 'nenhum']\n",
            "Classe prevista (CIRCOBITO): acidente\n"
          ]
        }
      ]
    }
  ],
  "metadata": {
    "kernelspec": {
      "display_name": "Python 3",
      "language": "python",
      "name": "python3"
    },
    "language_info": {
      "name": "python",
      "version": "3.11"
    },
    "colab": {
      "provenance": []
    }
  },
  "nbformat": 4,
  "nbformat_minor": 0
}